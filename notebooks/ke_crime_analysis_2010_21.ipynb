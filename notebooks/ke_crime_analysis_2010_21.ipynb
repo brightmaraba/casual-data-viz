{
 "cells": [
  {
   "cell_type": "code",
   "execution_count": null,
   "metadata": {},
   "outputs": [],
   "source": [
    "# Import libraries\n",
    "import os\n",
    "import tabula"
   ]
  },
  {
   "cell_type": "code",
   "execution_count": null,
   "metadata": {},
   "outputs": [],
   "source": [
    "# Setup directories\n",
    "this_dir = os.path.dirname(os.path.abspath(\"__file__\"))\n",
    "root_dir = os.path.dirname(this_dir)\n",
    "data_dir = os.path.join(root_dir, 'data')\n",
    "crime_data_dir = os.path.join(data_dir, 'crime_data')\n",
    "images_dir = os.path.join(root_dir, 'images')"
   ]
  }
 ],
 "metadata": {
  "kernelspec": {
   "display_name": "data-sci",
   "language": "python",
   "name": "python3"
  },
  "language_info": {
   "codemirror_mode": {
    "name": "ipython",
    "version": 3
   },
   "file_extension": ".py",
   "mimetype": "text/x-python",
   "name": "python",
   "nbconvert_exporter": "python",
   "pygments_lexer": "ipython3",
   "version": "3.11.6"
  }
 },
 "nbformat": 4,
 "nbformat_minor": 2
}
